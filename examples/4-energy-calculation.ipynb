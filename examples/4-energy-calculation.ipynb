{
 "cells": [
  {
   "cell_type": "markdown",
   "metadata": {},
   "source": [
    "### Welcome to the ProtoSyn.jl examples\n",
    "\n",
    "# 4 - Energy Calculation\n",
    "\n",
    "When comparing two or more molecular structures, it's useful to have a way to measure the fitness (or how \"real\" a structure is). This is often achieved by applying an energy funcion: a set of energy component calculations summed to return a fitness gauge. In ProtoSyn.jl, this is easily achieved by applying the default `EnergyFunction` or creating a new or custom function. For this example, we will load the 2A3D proteic structure."
   ],
   "cell_type": "markdown",
   "metadata": {}
  },
  {
   "cell_type": "code",
   "execution_count": 33,
   "metadata": {},
   "outputs": [],
   "source": [
    "using ProtoSyn"
   ]
  },
  {
   "cell_type": "code",
   "execution_count": 18,
   "metadata": {},
   "outputs": [
    {
     "data": {
      "text/plain": [
       "ProtoSyn.SIMD_1"
      ]
     },
     "execution_count": 18,
     "metadata": {},
     "output_type": "execute_result"
    }
   ],
   "source": [
    "using ProtoSyn\n",
    "ProtoSyn.acceleration.active = ProtoSyn.SIMD_1"
   ]
  },
  {
   "cell_type": "code",
   "execution_count": 19,
   "metadata": {},
   "outputs": [],
   "source": [
    "pose = ProtoSyn.Peptides.load(\"data/2a3d.pdb\")\n",
    "ProtoSyn.Peptides.assign_default_atom_names!(pose)\n",
    "ProtoSyn.Peptides.Calculators.Electrostatics.assign_default_charges!(pose);"
   ]
  },
  {
   "cell_type": "code",
   "execution_count": 20,
   "metadata": {},
   "outputs": [
    {
     "data": {
      "text/plain": [
       "🗲  Energy Function (7 components):\n",
       "+----------------------------------------------------------------------+\n",
       "| Index | Component name                                | Weight (α)   |\n",
       "+----------------------------------------------------------------------+\n",
       "| 1     | TorchANI_ML_Model                             |   3.00e-04   |\n",
       "| 2     | All_Atom_Clash_Rest                           |       1.00   |\n",
       "| 3     | Bond_Distance_Rest                            |       0.05   |\n",
       "| 4     | Hydrogen_Bonds                                |       0.50   |\n",
       "| 5     | Coulomb                                       |       0.60   |\n",
       "| 6     | GB_Solvation                                  |       0.50   |\n",
       "| 7     | SASA                                          |   3.00e-03   |\n",
       "+----------------------------------------------------------------------+\n",
       " ● Update forces: false\n",
       " ● Selection: Set\n",
       " └── TrueSelection (Atom)\n"
      ]
     },
     "execution_count": 20,
     "metadata": {},
     "output_type": "execute_result"
    }
   ],
   "source": [
    "energy_function = ProtoSyn.Common.default_energy_function()"
   ]
  },
  {
   "cell_type": "code",
   "execution_count": 21,
   "metadata": {},
   "outputs": [
    {
     "data": {
      "text/plain": [
       "10.94244275999175"
      ]
     },
     "execution_count": 21,
     "metadata": {},
     "output_type": "execute_result"
    }
   ],
   "source": [
    "energy_function(pose)"
   ]
  },
  {
   "cell_type": "markdown",
   "metadata": {},
   "source": [
    "Since our energy function had multiple energy components, we can analyze each individual contribution in the `pose.state.e` dictionary."
   ]
  },
  {
   "cell_type": "code",
   "execution_count": 22,
   "metadata": {},
   "outputs": [
    {
     "data": {
      "text/plain": [
       "Dict{Symbol, Float64} with 8 entries:\n",
       "  :Total               => 10.9424\n",
       "  :TorchANI_ML_Model   => -0.00295364\n",
       "  :SASA                => 4.176\n",
       "  :GB_Solvation        => -4.75801\n",
       "  :Coulomb             => 0.092721\n",
       "  :Hydrogen_Bonds      => -4.66042\n",
       "  :All_Atom_Clash_Rest => 16.0951\n",
       "  :Bond_Distance_Rest  => 2.08107e-5"
      ]
     },
     "execution_count": 22,
     "metadata": {},
     "output_type": "execute_result"
    }
   ],
   "source": [
    "pose.state.e"
   ]
  },
  {
   "cell_type": "markdown",
   "metadata": {},
   "source": [
    "By setting the `update_forces` flag to true, when calling the energy function, we can also calculate the forces felt on each atom of the Pose."
   ]
  },
  {
   "cell_type": "code",
   "execution_count": 23,
   "metadata": {},
   "outputs": [
    {
     "ename": "LoadError",
     "evalue": "TypeError: in keyword argument v, expected Union{Nothing, Tuple{Float64, Float64, Float64}}, got a value of type SIMD.Vec{4, Float64}",
     "output_type": "error",
     "traceback": [
      "TypeError: in keyword argument v, expected Union{Nothing, Tuple{Float64, Float64, Float64}}, got a value of type SIMD.Vec{4, Float64}",
      "",
      "Stacktrace:",
      "  [1] macro expansion",
      "    @ ~/ProtoSyn.jl/src/Core/Calculators/Potentials/calculation_stage_simd.jl:67 [inlined]",
      "  [2] macro expansion",
      "    @ ./simdloop.jl:77 [inlined]",
      "  [3] macro expansion",
      "    @ ~/ProtoSyn.jl/src/Core/Calculators/Potentials/calculation_stage_simd.jl:57 [inlined]",
      "  [4] macro expansion",
      "    @ ./simdloop.jl:77 [inlined]",
      "  [5] macro expansion",
      "    @ ~/ProtoSyn.jl/src/Core/Calculators/Potentials/calculation_stage_simd.jl:53 [inlined]",
      "  [6] resolve_calculation(#unused#::Type{ProtoSyn.SIMD_1}, pose::Pose{Topology}, potential::ProtoSyn.Calculators.var\"#bump_potential_charges#29\"{ProtoSyn.Calculators.var\"#bump_potential_charges#28#30\"{Float64, Float64}}, update_forces::Bool, verlet_list::Nothing, coords::Vector{Float64}, mask::Mask{Atom}, indexes::Vector{Int64})",
      "    @ ProtoSyn.Calculators ~/ProtoSyn.jl/src/Core/Calculators/Potentials/calculation_stage_simd.jl:32",
      "  [7] resolve_selection(A::Type{ProtoSyn.SIMD_1}, pose::Pose{Topology}, potential::Function, update_forces::Bool, verlet_list::Nothing, selection::TrueSelection{ProtoSyn.Stateless, Atom}, mask::typeof(ProtoSyn.Calculators.get_intra_residue_mask))",
      "    @ ProtoSyn.Calculators ~/ProtoSyn.jl/src/Core/Calculators/Potentials/selection_stage.jl:58",
      "  [8] apply_potential",
      "    @ ~/ProtoSyn.jl/src/Core/Calculators/Potentials/potentials.jl:17 [inlined]",
      "  [9] calc_coulomb(::Type{ProtoSyn.SIMD_1}, pose::Pose{Topology}, selection::TrueSelection{ProtoSyn.Stateless, Atom}, update_forces::Bool; mask::typeof(ProtoSyn.Calculators.get_intra_residue_mask), vlist::Nothing, potential::ProtoSyn.Calculators.var\"#bump_potential_charges#29\"{ProtoSyn.Calculators.var\"#bump_potential_charges#28#30\"{Float64, Float64}})",
      "    @ ProtoSyn.Calculators.Electrostatics ~/ProtoSyn.jl/src/Core/Calculators/electrostatics.jl:199",
      " [10] (::ProtoSyn.Calculators.EnergyFunction)(pose::Pose{Topology}; update_forces_overwrite::Bool)",
      "    @ ProtoSyn.Calculators ~/ProtoSyn.jl/src/Core/Calculators/energy_function.jl:224",
      " [11] top-level scope",
      "    @ In[23]:1",
      " [12] eval",
      "    @ ./boot.jl:373 [inlined]",
      " [13] include_string(mapexpr::typeof(REPL.softscope), mod::Module, code::String, filename::String)",
      "    @ Base ./loading.jl:1196"
     ]
    }
   ],
   "source": [
    "energy_function(pose, update_forces_overwrite = true)"
   ]
  },
  {
   "cell_type": "code",
   "execution_count": null,
   "metadata": {},
   "outputs": [
    {
     "data": {
      "text/plain": [
       "3×1140 Matrix{Float64}:\n",
       " -1.0026e-5   1.14238e-5  -0.0166671  …  -0.365434   0.568672  -0.551533\n",
       " -3.64531e-6  7.01899e-7  -0.0198531      0.262988   0.150171  -0.200869\n",
       " -1.6739e-6   5.0517e-6   -0.0110529     -0.148427  -0.188661   0.19224"
      ]
     },
     "execution_count": 16,
     "metadata": {},
     "output_type": "execute_result"
    }
   ],
   "source": [
    "pose.state.f"
   ]
  },
  {
   "cell_type": "markdown",
   "metadata": {},
   "source": [
    "The energy function is completly modifiable, the user can add or remove components, as well as change the weight bias given to each one, as exemplified bellow. "
   ]
  },
  {
   "cell_type": "code",
   "execution_count": null,
   "metadata": {},
   "outputs": [
    {
     "ename": "LoadError",
     "evalue": "KeyError: key \"Caterpillar_Solvation\" not found",
     "output_type": "error",
     "traceback": [
      "KeyError: key \"Caterpillar_Solvation\" not found",
      "",
      "Stacktrace:",
      " [1] getindex",
      "   @ ./dict.jl:481 [inlined]",
      " [2] getindex(energy_function::ProtoSyn.Calculators.EnergyFunction, name::String)",
      "   @ ProtoSyn.Calculators ~/ProtoSyn.jl/src/Core/Calculators/energy_function.jl:129",
      " [3] top-level scope",
      "   @ In[17]:1",
      " [4] eval",
      "   @ ./boot.jl:373 [inlined]",
      " [5] include_string(mapexpr::typeof(REPL.softscope), mod::Module, code::String, filename::String)",
      "   @ Base ./loading.jl:1196"
     ]
    }
   ],
   "source": [
    "energy_function[\"Caterpillar_Solvation\"].α = 0.03;\n",
    "energy_function"
   ]
  },
  {
   "cell_type": "code",
   "execution_count": null,
   "metadata": {},
   "outputs": [
    {
     "data": {
      "text/plain": [
       "-0.10164740027243191"
      ]
     },
     "execution_count": 24,
     "metadata": {},
     "output_type": "execute_result"
    }
   ],
   "source": [
    "energy_function(pose)"
   ]
  },
  {
   "cell_type": "markdown",
   "metadata": {},
   "source": [
    "As we can see, the resulting energy is now different. Besides altering the `α` weight bias, some `EnergyFunctionComponent` instances have a set of settings, specific for each one, that can be fine tuned. for example, we can set the bond distance restraint to a lower distance."
   ]
  },
  {
   "cell_type": "code",
   "execution_count": null,
   "metadata": {},
   "outputs": [
    {
     "data": {
      "text/plain": [
       "          Name : Bond_Distance_Restraint\n",
       "    Weight (α) : 1.0\n",
       " Update forces : true\n",
       "       Setings :\n",
       "            :x0 => 0.2\n"
      ]
     },
     "execution_count": 31,
     "metadata": {},
     "output_type": "execute_result"
    }
   ],
   "source": [
    "energy_function[\"Bond_Distance_Restraint\"].settings[:x0] = 0.2\n",
    "energy_function[\"Bond_Distance_Restraint\"]"
   ]
  },
  {
   "cell_type": "code",
   "execution_count": null,
   "metadata": {},
   "outputs": [
    {
     "data": {
      "text/plain": [
       "365.8297953062032"
      ]
     },
     "execution_count": 32,
     "metadata": {},
     "output_type": "execute_result"
    }
   ],
   "source": [
    "energy_function(pose)"
   ]
  },
  {
   "cell_type": "markdown",
   "metadata": {},
   "source": [
    "Which, of course, results in an absurd increase in energy of the system.\n",
    "\n",
    "## Conclusion\n",
    "\n",
    "In this brief example we took a look at how to gauge the fitness of a structure, using the default Energy Function instance of ProtoSyn, as well as how to modify and fine tune each of the individual energy function component instances that compose the energy function."
   ]
  }
 ]
}
