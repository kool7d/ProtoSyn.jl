{
 "metadata": {
  "language_info": {
   "codemirror_mode": {
    "name": "ipython",
    "version": 3
   },
   "file_extension": ".py",
   "mimetype": "text/x-python",
   "name": "python",
   "nbconvert_exporter": "python",
   "pygments_lexer": "ipython3",
   "version": 3
  },
  "orig_nbformat": 4,
  "kernelspec": {
   "name": "julia-1.6",
   "display_name": "Julia 1.6.1",
   "language": "julia"
  }
 },
 "nbformat": 4,
 "nbformat_minor": 2,
 "cells": [
  {
   "source": [
    "### Welcome to the ProtoSyn.jl examples\n",
    "\n",
    "# 4 - Energy Calculation\n",
    "\n",
    "When comparing two or more molecular structures, it's useful to have a way to measure the fitness (or how \"real\" a structure is). This is often achieved by applying an energy funcion: a set of energy component calculations summed to return a fitness gauge. In ProtoSyn, this is easily achieved by applying the default `EnergyFunction` or creating a new or custom function. For this example, we will load the 2A3D proteic structure."
   ],
   "cell_type": "markdown",
   "metadata": {}
  },
  {
   "cell_type": "code",
   "execution_count": 33,
   "metadata": {},
   "outputs": [],
   "source": [
    "using ProtoSyn"
   ]
  },
  {
   "cell_type": "code",
   "execution_count": 11,
   "metadata": {},
   "outputs": [
    {
     "output_type": "stream",
     "name": "stderr",
     "text": [
      "┌ Info: Flag `bonds_by_distance` is set to False. Make sure the loaded data/2a3d.pdb file has connect records.\n└ @ ProtoSyn.Peptides /home/jpereira/project_c/ProtoSyn.jl/src/Peptides/Methods/io.jl:30\n"
     ]
    },
    {
     "output_type": "execute_result",
     "data": {
      "text/plain": [
       "Pose{Topology}(Topology{/2a3d:14695}, State{Float64}:\n",
       " Size: 1140\n",
       " i2c: false | c2i: false\n",
       " Energy: Dict(:Total => Inf)\n",
       ")"
      ]
     },
     "metadata": {},
     "execution_count": 11
    }
   ],
   "source": [
    "pose = ProtoSyn.Peptides.load(\"data/2a3d.pdb\")"
   ]
  },
  {
   "cell_type": "code",
   "execution_count": 12,
   "metadata": {},
   "outputs": [
    {
     "output_type": "execute_result",
     "data": {
      "text/plain": [
       "🗲  Energy Function (4 components):\n",
       "+----------------------------------------------------------------------+\n",
       "| Index | Component name                                | Weight (α)   |\n",
       "+----------------------------------------------------------------------+\n",
       "| 1     | TorchANI_ML_Model                             |      1.000   |\n",
       "| 2     | Caterpillar_Solvation                         |      0.010   |\n",
       "| 3     | Bond_Distance_Restraint                       |      1.000   |\n",
       "| 4     | Cα-Cα_Clash_Restraint                         |    100.000   |\n",
       "+----------------------------------------------------------------------+\n"
      ]
     },
     "metadata": {},
     "execution_count": 12
    }
   ],
   "source": [
    "energy_function = ProtoSyn.Common.default_energy_function()"
   ]
  },
  {
   "cell_type": "code",
   "execution_count": 13,
   "metadata": {},
   "outputs": [
    {
     "output_type": "execute_result",
     "data": {
      "text/plain": [
       "-6.597528783285798"
      ]
     },
     "metadata": {},
     "execution_count": 13
    }
   ],
   "source": [
    "energy_function(pose)"
   ]
  },
  {
   "source": [
    "Since our energy function had multiple energy components, we can analyze each individual contribution in the `pose.state.e` dictionary."
   ],
   "cell_type": "markdown",
   "metadata": {}
  },
  {
   "cell_type": "code",
   "execution_count": 14,
   "metadata": {},
   "outputs": [
    {
     "output_type": "execute_result",
     "data": {
      "text/plain": [
       "Dict{Symbol, Float64} with 5 entries:\n",
       "  :Total                          => -6.59753\n",
       "  :TorchANI_ML_Model              => -9.84547\n",
       "  :Bond_Distance_Restraint        => 0.0\n",
       "  :Caterpillar_Solvation          => 3.24794\n",
       "  Symbol(\"Cα-Cα_Clash_Restraint\") => 0.0"
      ]
     },
     "metadata": {},
     "execution_count": 14
    }
   ],
   "source": [
    "pose.state.e"
   ]
  },
  {
   "source": [
    "By setting the `update_forces` flag to true, when calling the energy function, we can also calculate the forces felt on each atom of the Pose."
   ],
   "cell_type": "markdown",
   "metadata": {}
  },
  {
   "cell_type": "code",
   "execution_count": 15,
   "metadata": {},
   "outputs": [
    {
     "output_type": "execute_result",
     "data": {
      "text/plain": [
       "-6.597528783285798"
      ]
     },
     "metadata": {},
     "execution_count": 15
    }
   ],
   "source": [
    "energy_function(pose, true)"
   ]
  },
  {
   "cell_type": "code",
   "execution_count": 16,
   "metadata": {},
   "outputs": [
    {
     "output_type": "execute_result",
     "data": {
      "text/plain": [
       "3×1140 Matrix{Float64}:\n",
       " -0.0334201   0.0380794   -0.0653166  …  -0.0110561   0.0583287   -0.0354509\n",
       " -0.012151    0.00233961  -0.0503394      0.023544   -0.0214769   -0.0355987\n",
       " -0.00557967  0.016839     0.0254311      0.0118799  -0.00884128   0.0172025"
      ]
     },
     "metadata": {},
     "execution_count": 16
    }
   ],
   "source": [
    "pose.state.f"
   ]
  },
  {
   "source": [
    "The energy function is completly modifiable, the user can add or remove components, as well as change the weight bias given to each one, as exemplified bellow. "
   ],
   "cell_type": "markdown",
   "metadata": {}
  },
  {
   "cell_type": "code",
   "execution_count": 23,
   "metadata": {},
   "outputs": [
    {
     "output_type": "execute_result",
     "data": {
      "text/plain": [
       "🗲  Energy Function (4 components):\n",
       "+----------------------------------------------------------------------+\n",
       "| Index | Component name                                | Weight (α)   |\n",
       "+----------------------------------------------------------------------+\n",
       "| 1     | TorchANI_ML_Model                             |      1.000   |\n",
       "| 2     | Caterpillar_Solvation                         |      0.030   |\n",
       "| 3     | Bond_Distance_Restraint                       |      1.000   |\n",
       "| 4     | Cα-Cα_Clash_Restraint                         |    100.000   |\n",
       "+----------------------------------------------------------------------+\n"
      ]
     },
     "metadata": {},
     "execution_count": 23
    }
   ],
   "source": [
    "energy_function[\"Caterpillar_Solvation\"].α = 0.03;\r\n",
    "energy_function"
   ]
  },
  {
   "cell_type": "code",
   "execution_count": 24,
   "metadata": {},
   "outputs": [
    {
     "output_type": "execute_result",
     "data": {
      "text/plain": [
       "-0.10164740027243191"
      ]
     },
     "metadata": {},
     "execution_count": 24
    }
   ],
   "source": [
    "energy_function(pose)"
   ]
  },
  {
   "source": [
    "As we can see, the resulting energy is now different. Besides altering the `α` weight bias, some `EnergyFunctionComponent` instances have a set of settings, specific for each one, that can be fine tuned. for example, we can set the bond distance restraint to a lower distance."
   ],
   "cell_type": "markdown",
   "metadata": {}
  },
  {
   "cell_type": "code",
   "execution_count": 31,
   "metadata": {},
   "outputs": [
    {
     "output_type": "execute_result",
     "data": {
      "text/plain": [
       "          Name : Bond_Distance_Restraint\n",
       "    Weight (α) : 1.0\n",
       " Update forces : true\n",
       "       Setings :\n",
       "            :x0 => 0.2\n"
      ]
     },
     "metadata": {},
     "execution_count": 31
    }
   ],
   "source": [
    "energy_function[\"Bond_Distance_Restraint\"].settings[:x0] = 0.2\n",
    "energy_function[\"Bond_Distance_Restraint\"]"
   ]
  },
  {
   "cell_type": "code",
   "execution_count": 32,
   "metadata": {},
   "outputs": [
    {
     "output_type": "execute_result",
     "data": {
      "text/plain": [
       "365.8297953062032"
      ]
     },
     "metadata": {},
     "execution_count": 32
    }
   ],
   "source": [
    "energy_function(pose)"
   ]
  },
  {
   "source": [
    "Which, of course, results in an absurd increase in energy of the system.\n",
    "\n",
    "## Conclusion\n",
    "\n",
    "In this brief example we took a look at how to gauge the fitness of a structure, using the default Energy Function instance of ProtoSyn, as well as how to modify and fine tune each of the individual energy function component instances that compose the energy function."
   ],
   "cell_type": "markdown",
   "metadata": {}
  }
 ]
}
