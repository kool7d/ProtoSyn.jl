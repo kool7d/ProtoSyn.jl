{
 "cells": [
  {
   "cell_type": "markdown",
   "metadata": {},
   "source": [
    "### Welcome to the ProtoSyn.jl examples\n",
    "\n",
    "# 6 - Steepest Descent\n",
    "\n",
    "ProtoSyn makes available the Steepest Descent Driver, whose simulation algorithm calculates the forces being felt on each atom of a molecular structure (via an Energy Function instance) and updates the atoms position in accordance, as to relax the structure. In this example, we will relax the 2A3D peptide using the Steepest Descent Driver."
   ]
  },
  {
   "cell_type": "code",
   "execution_count": 1,
   "metadata": {},
   "outputs": [
    {
     "name": "stdout",
     "output_type": "stream",
     "text": [
      "\u001b[36m | Loading TorchANI\u001b[39m\n",
      "\u001b[36m | Loading ONNX models\u001b[39m\n",
      "\u001b[36m | Loading SeqDes\u001b[39m\n",
      "\u001b[34m\u001b[1m[ Loading: \u001b[22m\u001b[39m\u001b[32mProtoSyn loaded successfully!\u001b[39m\n",
      "\n",
      ".      ____            _       ____              \n",
      "      |  _ \\ _ __ ___ | |_ ___/ ___| _   _ _ __  \n",
      "      | |_) | '__/ _ \\| __/ _ \\___ \\| | | | '_ \\ \n",
      "      |  __/| | | (_) | || (_) |__) | |_| | | | |\n",
      "      |_|   |_|  \\___/ \\__\\___/____/ \\__, |_| |_|\n",
      "                                       |_/       \n",
      "    \n",
      "      ---------------------------------------------\n",
      "\n",
      " Version      : 1.10\n",
      " License      : GNU-GPL-3\n",
      " Developed by : José Pereira (jose.manuel.pereira@ua.pt)\n",
      "                Sérgio Santos\n",
      "\n",
      "\n",
      "\u001b[33mProtoSyn will now display warnings and error messages. \u001b[39mDebug: ⨯ | Info: ⨯ | Warnings: ✓ | Errors: ✓\n"
     ]
    }
   ],
   "source": [
    "using ProtoSyn"
   ]
  },
  {
   "cell_type": "markdown",
   "metadata": {},
   "source": [
    "1. Load the 2A3D structure.\n",
    "\n",
    "The assignment of the default atom names and charges is not actually necessary for this example, but it's a good practice for when electrostatics are being calculated."
   ]
  },
  {
   "cell_type": "code",
   "execution_count": null,
   "metadata": {},
   "outputs": [],
   "source": [
    "pose = ProtoSyn.Peptides.load(\"data/2a3d.pdb\")\n",
    "ProtoSyn.Peptides.assign_default_atom_names!(pose)\n",
    "ProtoSyn.Peptides.Calculators.Electrostatics.assign_default_charges!(pose);"
   ]
  },
  {
   "cell_type": "markdown",
   "metadata": {},
   "source": [
    "2. Define the energy function\n",
    "\n",
    "For this example, we'll minimize the TorchANI ML model energy (while maintaining a bond distance restraint). Other components, such as long-range electrostatics or all-atom clash restraints, can be added when necessary."
   ]
  },
  {
   "cell_type": "code",
   "execution_count": null,
   "metadata": {},
   "outputs": [],
   "source": [
    "torchani        = ProtoSyn.Calculators.TorchANI.get_default_torchani_model(α = 1.0)\n",
    "bond_distance   = ProtoSyn.Calculators.Restraints.get_default_bond_distance_restraint(α = 1.0)\n",
    "energy_function = ProtoSyn.Calculators.EnergyFunction([torchani, bond_distance])"
   ]
  },
  {
   "cell_type": "markdown",
   "metadata": {},
   "source": [
    "3. Evaluate the initial state"
   ]
  },
  {
   "cell_type": "code",
   "execution_count": null,
   "metadata": {},
   "outputs": [],
   "source": [
    "energy_function(pose)\n",
    "ProtoSyn.write(pose, \"output/example6.pdb\")\n",
    "display(pose.state.e)"
   ]
  },
  {
   "cell_type": "markdown",
   "metadata": {},
   "source": [
    "4. Generate an alternative starting point\n",
    "\n",
    "For the purpose of this example, the Backrub Mutator will quickly be employed to gently randomize the position of the atoms, in order to more visually veriy the energy minimization process. "
   ]
  },
  {
   "cell_type": "code",
   "execution_count": null,
   "metadata": {},
   "outputs": [],
   "source": [
    "scramble! = ProtoSyn.Mutators.BackrubMutator(ProtoSyn.rand_vector_in_sphere, 1.0, 0.2, nothing)\n",
    "scramble!(pose)\n",
    "energy_function(pose)\n",
    "ProtoSyn.append(pose, \"output/example6.pdb\")\n",
    "display(pose.state.e)"
   ]
  },
  {
   "cell_type": "code",
   "execution_count": null,
   "metadata": {},
   "outputs": [],
   "source": [
    "callback = ProtoSyn.Common.default_energy_step_frame_callback(1, \"output/example6.pdb\")"
   ]
  },
  {
   "cell_type": "code",
   "execution_count": null,
   "metadata": {},
   "outputs": [],
   "source": [
    "steepest_descent = ProtoSyn.Drivers.SteepestDescent(energy_function, callback, 500, 0.001, 0.1)"
   ]
  },
  {
   "cell_type": "code",
   "execution_count": null,
   "metadata": {},
   "outputs": [],
   "source": [
    "steepest_descent(pose)"
   ]
  },
  {
   "cell_type": "markdown",
   "metadata": {},
   "source": [
    "## Conclusion\n",
    "\n",
    "In this quick example we explored the usage of the Steepest Descent Driver to relax a structure based on the forces being felt. This is usefull as a quick way to relax angles and bond distances in simulations, as well as fine tune the packaging of sidechains."
   ]
  }
 ],
 "metadata": {
  "kernelspec": {
   "display_name": "Julia 1.7.2",
   "language": "julia",
   "name": "julia-1.7"
  },
  "language_info": {
   "file_extension": ".jl",
   "mimetype": "application/julia",
   "name": "julia",
   "version": "1.7.2"
  },
  "orig_nbformat": 4,
  "vscode": {
   "interpreter": {
    "hash": "767d51c1340bd893661ea55ea3124f6de3c7a262a8b4abca0554b478b1e2ff90"
   }
  }
 },
 "nbformat": 4,
 "nbformat_minor": 2
}
