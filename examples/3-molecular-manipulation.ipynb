{
 "cells": [
  {
   "cell_type": "markdown",
   "metadata": {},
   "source": [
    "### Welcome to the ProtoSyn.jl examples\n",
    "\n",
    "# 3 - Molecular Manipulation\n",
    "\n",
    "One of the main applications of ProtoSyn is the easy manipulation of molecular structures: add and remove residues and whole loops, mutate aminoacids, bond and unbond atoms or completly remove them from the structure. These are just some examples of the manipulations possible with the ProtoSyn framework. In the next examples we will explore a few of these tasks. Despite most of the methods used in this example having a Core counter-part, for this example, we will focus on the Peptides module, as it provides specialized methods for dealing with peptidic chains. We will start by creating a new Pose from scratch, employing the `build` function from the `Builder` submodule."
   ]
  },
  {
   "cell_type": "code",
   "execution_count": null,
   "metadata": {},
   "outputs": [],
   "source": [
    "using ProtoSyn"
   ]
  },
  {
   "cell_type": "markdown",
   "metadata": {},
   "source": [
    "ProtoSyn allows users to create new molecular structures from scratch, using L-Grammars as residue libraries. An L-Grammar serves as a bank of templates from which the `build` method can retrieve each residue to create a new Pose. Note that this new Pose will have a linear conformation. For more details, check the documentation."
   ]
  },
  {
   "cell_type": "code",
   "execution_count": null,
   "metadata": {},
   "outputs": [],
   "source": [
    "res_lib = ProtoSyn.Peptides.grammar;"
   ]
  },
  {
   "cell_type": "code",
   "execution_count": null,
   "metadata": {},
   "outputs": [],
   "source": [
    "pose = ProtoSyn.Peptides.build(res_lib, seq\"AAAAAA\")"
   ]
  },
  {
   "cell_type": "markdown",
   "metadata": {},
   "source": [
    "We can export and visualize the resulting structure in our preferred visualization software. In this example, we will use the Julia's package Bio3DView. Note that this visualization does not include the hydrogens."
   ]
  },
  {
   "cell_type": "code",
   "execution_count": null,
   "metadata": {},
   "outputs": [],
   "source": [
    "using Bio3DView"
   ]
  },
  {
   "cell_type": "code",
   "execution_count": null,
   "metadata": {},
   "outputs": [],
   "source": [
    "ProtoSyn.write(pose, \"output/example3.pdb\")"
   ]
  },
  {
   "cell_type": "code",
   "execution_count": null,
   "metadata": {},
   "outputs": [],
   "source": [
    "style = Style(\"stick\")\n",
    "viewfile(\"output/example3.pdb\", style = style)"
   ]
  },
  {
   "cell_type": "markdown",
   "metadata": {},
   "source": [
    "## a) Appending and inserting residues to the molecular structure\n",
    "\n",
    "From the same L-Grammar used to build the initial peptide, we can also append 1 or more new residues to the end of an existing structure (built or loaded from a file)."
   ]
  },
  {
   "cell_type": "code",
   "execution_count": null,
   "metadata": {},
   "outputs": [],
   "source": [
    "ProtoSyn.append_fragment!(pose, pose.graph[1][end], res_lib, seq\"FFF\")"
   ]
  },
  {
   "cell_type": "code",
   "execution_count": null,
   "metadata": {},
   "outputs": [],
   "source": [
    "ProtoSyn.write(pose, \"output/example3.pdb\")\n",
    "viewfile(\"output/example3.pdb\", style = style)"
   ]
  },
  {
   "cell_type": "markdown",
   "metadata": {},
   "source": [
    "In a similar fashion, we can also insert 1 or more new residues in the middle of the structure, displacing all pre-existing residues downstream."
   ]
  },
  {
   "cell_type": "code",
   "execution_count": null,
   "metadata": {},
   "outputs": [],
   "source": [
    "ProtoSyn.Peptides.insert_fragment!(pose, pose.graph[1][4], res_lib, seq\"FFF\")"
   ]
  },
  {
   "cell_type": "code",
   "execution_count": null,
   "metadata": {},
   "outputs": [],
   "source": [
    "ProtoSyn.write(pose, \"output/example3.pdb\")\n",
    "viewfile(\"output/example3.pdb\", style = style)"
   ]
  },
  {
   "cell_type": "markdown",
   "metadata": {},
   "source": [
    "## b) Mutating an aminoacid\n",
    "\n",
    "Another common task is to change the nature of an aminoacid, mutating it to another type. This is easilly achieved in ProtoSyn, using the `Peptides.mutate!` method."
   ]
  },
  {
   "cell_type": "code",
   "execution_count": null,
   "metadata": {},
   "outputs": [],
   "source": [
    "ProtoSyn.Peptides.mutate!(pose, pose.graph[1][4], res_lib, seq\"K\")"
   ]
  },
  {
   "cell_type": "code",
   "execution_count": null,
   "metadata": {},
   "outputs": [],
   "source": [
    "ProtoSyn.write(pose, \"output/example3.pdb\")\n",
    "viewfile(\"output/example3.pdb\", style = style)"
   ]
  },
  {
   "cell_type": "markdown",
   "metadata": {},
   "source": [
    "## c) Removing and adding sidechains\n",
    "\n",
    "In certain simulations, especially when simulating large structures, it is common to employ coarse-grained methods to evaluate the energy of the system. In such cases, it can be helpfull to remove the sidechains in order to lower the degrees of freedom of the system. This can be done, in ProtoSyn, using the `Peptides.remove_sidechains!` method. At a latter point in the simulation, the sidechains can be recovered by using the `Peptides.add_sidechains!` method (although losing the initial conformation)."
   ]
  },
  {
   "cell_type": "code",
   "execution_count": null,
   "metadata": {},
   "outputs": [],
   "source": [
    "ProtoSyn.Peptides.remove_sidechains!(pose, res_lib)"
   ]
  },
  {
   "cell_type": "code",
   "execution_count": null,
   "metadata": {},
   "outputs": [],
   "source": [
    "ProtoSyn.write(pose, \"output/example3.pdb\")\n",
    "viewfile(\"output/example3.pdb\", style = style)"
   ]
  },
  {
   "cell_type": "code",
   "execution_count": null,
   "metadata": {},
   "outputs": [],
   "source": [
    "ProtoSyn.Peptides.add_sidechains!(pose, res_lib)"
   ]
  },
  {
   "cell_type": "code",
   "execution_count": null,
   "metadata": {},
   "outputs": [],
   "source": [
    "ProtoSyn.write(pose, \"output/example3.pdb\")\n",
    "viewfile(\"output/example3.pdb\", style = style)"
   ]
  },
  {
   "cell_type": "markdown",
   "metadata": {},
   "source": [
    "Consider reading the documentation for more details!\n",
    "\n",
    "## d) Applying a new Rotamer to the sidechains\n",
    "\n",
    "A Rotamer is a set of dihedral angle values for each of the chi angles in the sidechain of an aminoacid. These can be organized in a rotamer library. Multiple instances of such libraries have been proposed in the past. ProtoSyn employs, by default, the Dunbrack Rotamer Library 2011, a backbone-dependent library. This means that available rotamers for a given aminoacid's sidechain are restricted by the current backbone phi and psi dihedral angles, based on the observed probabilities in nature. In ProtoSyn, a user is able to load this rotamer library and explore it freely to apply a new rotamer to a given sidechain, as exemplified bellow."
   ]
  },
  {
   "cell_type": "code",
   "execution_count": null,
   "metadata": {},
   "outputs": [],
   "source": [
    "rot_lib = ProtoSyn.Peptides.load_dunbrack()"
   ]
  },
  {
   "cell_type": "markdown",
   "metadata": {},
   "source": [
    "Since this is a backbone-dependent library, we can find the current backbone phi and psi dihedral angle values using the `ProtoSyn.getdihedral` method. On top of that, using the dihedral selections, the `phi` and `psi` methods automatically retrieve the correct atom whose `:ϕ` field controls the phi and psi dihedral angle values, respectivelly."
   ]
  },
  {
   "cell_type": "code",
   "execution_count": null,
   "metadata": {},
   "outputs": [],
   "source": [
    "phi = ProtoSyn.getdihedral(pose.state, ProtoSyn.Peptides.phi(pose.graph[1][4]))\n",
    "psi = ProtoSyn.getdihedral(pose.state, ProtoSyn.Peptides.psi(pose.graph[1][4]))\n",
    "println(\"Phi: $phi | Psi: $psi\")"
   ]
  },
  {
   "cell_type": "code",
   "execution_count": null,
   "metadata": {},
   "outputs": [],
   "source": [
    "stack = rot_lib[\"PHE\"][phi, psi]"
   ]
  },
  {
   "cell_type": "markdown",
   "metadata": {},
   "source": [
    "The table above shows all available rotamers for the \"PHE\" dihedral (for example, for residue 5), for the specific phi and psi dihedral angle values, organized by natural probability of occurrence. We can now either randomly sample from this list or pick one of them in order to apply to the Pose. In this example, we will apply the most likely rotamer. Don't forget to sync! the new internal coordinate changes to cartesian coordinates (`ProtoSyn.write!` automatically syncs the Pose)."
   ]
  },
  {
   "cell_type": "code",
   "execution_count": null,
   "metadata": {},
   "outputs": [],
   "source": [
    "ProtoSyn.Peptides.apply!(pose.state, stack[1], pose.graph[1][5])"
   ]
  },
  {
   "cell_type": "code",
   "execution_count": null,
   "metadata": {},
   "outputs": [],
   "source": [
    "ProtoSyn.write(pose, \"output/example3.pdb\")\n",
    "viewfile(\"output/example3.pdb\", style = style)"
   ]
  },
  {
   "cell_type": "markdown",
   "metadata": {},
   "source": [
    "## e) Remove an aminoacid\n",
    "\n",
    "Using the `pop_residue!` method, users can remove specific Residues from a Pose."
   ]
  },
  {
   "cell_type": "code",
   "execution_count": null,
   "metadata": {},
   "outputs": [],
   "source": [
    "ProtoSyn.pop_residue!(pose, pose.graph[1][end])"
   ]
  },
  {
   "cell_type": "code",
   "execution_count": null,
   "metadata": {},
   "outputs": [],
   "source": [
    "ProtoSyn.write(pose, \"output/example3.pdb\")\n",
    "viewfile(\"output/example3.pdb\", style = style)"
   ]
  },
  {
   "cell_type": "markdown",
   "metadata": {},
   "source": [
    "It's also possible to remove a residue in the middle of a chain, braking it. In this case, the downstream residues are maintained in the current position but are attached to the Pose's root."
   ]
  },
  {
   "cell_type": "code",
   "execution_count": null,
   "metadata": {},
   "outputs": [],
   "source": [
    "ProtoSyn.pop_residue!(pose, pose.graph[1][6])"
   ]
  },
  {
   "cell_type": "code",
   "execution_count": null,
   "metadata": {},
   "outputs": [],
   "source": [
    "ProtoSyn.write(pose, \"output/example3.pdb\")\n",
    "viewfile(\"output/example3.pdb\", style = style)"
   ]
  },
  {
   "cell_type": "markdown",
   "metadata": {},
   "source": [
    "Since the downstream residue is now connected to the root, the directed graph is severed. As such, any upstream change, such as a dihedral rotation (as exemplified bellow), will only apply to the contiguous section of the Segment. Note that, in the snippet bellow, the `ProtoSyn.Units` module is used to simplify the writting of `rad2deg(90)` to simply `90°`."
   ]
  },
  {
   "cell_type": "code",
   "execution_count": null,
   "metadata": {},
   "outputs": [],
   "source": [
    "using ProtoSyn.Units\n",
    "\n",
    "ProtoSyn.rotate_dihedral!(pose.state, Peptides.phi(pose.graph[1][2]), 90°)"
   ]
  },
  {
   "cell_type": "code",
   "execution_count": null,
   "metadata": {},
   "outputs": [],
   "source": [
    "ProtoSyn.write(pose, \"output/example3.pdb\")\n",
    "viewfile(\"output/example3.pdb\", style = style)"
   ]
  },
  {
   "cell_type": "markdown",
   "metadata": {},
   "source": [
    "## Conclusion\n",
    "\n",
    "In this example, we took a look at some of the functions made available by ProtoSyn to help manipulate molecular structures, such as:\n",
    "+ Appending and inserting new aminoacids\n",
    "+ Mutating aminoacids\n",
    "+ Removing and adding sidechains\n",
    "+ Applying rotamers from a library\n",
    "+ Removing residues\n",
    "+ Applying specific dihedral rotations\n",
    "\n",
    "Such set of tools is useful when setting up new starting points for simulations and prototyping new proteic designs, for example."
   ]
  }
 ],
 "metadata": {
  "kernelspec": {
   "display_name": "Julia 1.7.2",
   "language": "julia",
   "name": "julia-1.7"
  },
  "language_info": {
   "file_extension": ".jl",
   "mimetype": "application/julia",
   "name": "julia",
   "version": "1.7.2"
  },
  "orig_nbformat": 4
 },
 "nbformat": 4,
 "nbformat_minor": 2
}
