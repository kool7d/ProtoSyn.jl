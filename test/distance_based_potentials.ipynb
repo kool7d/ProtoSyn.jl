{
 "cells": [
  {
   "cell_type": "code",
   "execution_count": 1,
   "metadata": {},
   "outputs": [
    {
     "name": "stdout",
     "output_type": "stream",
     "text": [
      "\u001b[31mProtoSyn will now only display error messages. \u001b[39mDebug: ⨯ | Info: ⨯ | Warnings: ⨯ | Errors: ✓\n",
      "\u001b[34m\u001b[1m[ Loading: \u001b[22m\u001b[39m\u001b[34mExternal packages\u001b[39m\n",
      "\u001b[36m | Loading SIMD\u001b[39m\n",
      "\u001b[36m | Loading CUDA\u001b[39m\n",
      "\u001b[34m\u001b[1m[ Loading: \u001b[22m\u001b[39m\u001b[34mSetting up global variables\u001b[39m\n",
      "\u001b[36m | Current acceleration set to ProtoSyn.CUDA_2\u001b[39m\n",
      "\u001b[34m\u001b[1m[ Loading: \u001b[22m\u001b[39m\u001b[34mCore module\u001b[39m\n",
      "\u001b[36m | Loading Calculators\u001b[39m\n",
      "\u001b[36m | Loading Mutators\u001b[39m\n",
      "\u001b[36m | Loading Drivers\u001b[39m\n",
      "\u001b[34m\u001b[1m[ Loading: \u001b[22m\u001b[39m\u001b[34mPeptides module\u001b[39m\n",
      "\u001b[34m\u001b[1m[ Loading: \u001b[22m\u001b[39m\u001b[34mMaterials module\u001b[39m\n",
      "\u001b[34m\u001b[1m[ Loading: \u001b[22m\u001b[39m\u001b[34mSugars module\u001b[39m\n",
      "\u001b[34m\u001b[1m[ Loading: \u001b[22m\u001b[39m\u001b[34mCommon module\u001b[39m\n",
      "\u001b[34m\u001b[1m[ Loading: \u001b[22m\u001b[39m\u001b[34mExternal models\u001b[39m\n",
      "\u001b[36m | Loading TorchANI\u001b[39m\n",
      "\u001b[36m | Loading ONNX models\u001b[39m\n",
      "\u001b[36m | Loading SeqDes\u001b[39m\n",
      "\u001b[34m\u001b[1m[ Loading: \u001b[22m\u001b[39m\u001b[32mProtoSyn loaded successfully!\u001b[39m\n",
      "\n",
      ".      ____            _       ____              \n",
      "      |  _ \\ _ __ ___ | |_ ___/ ___| _   _ _ __  \n",
      "      | |_) | '__/ _ \\| __/ _ \\___ \\| | | | '_ \\ \n",
      "      |  __/| | | (_) | || (_) |__) | |_| | | | |\n",
      "      |_|   |_|  \\___/ \\__\\___/____/ \\__, |_| |_|\n",
      "                                       |_/       \n",
      "    \n",
      "      ---------------------------------------------\n",
      "\n",
      " Version      : 1.10\n",
      " License      : GNU-GPL-3\n",
      " Developed by : José Pereira (jose.manuel.pereira@ua.pt)\n",
      "                Sérgio Santos\n",
      "\n",
      "\n",
      "\u001b[33mProtoSyn will now display warnings and error messages. \u001b[39mDebug: ⨯ | Info: ⨯ | Warnings: ✓ | Errors: ✓\n"
     ]
    },
    {
     "name": "stderr",
     "output_type": "stream",
     "text": [
      "┌ Info: Precompiling ProtoSyn [c9758760-7c0d-11e9-0ffc-fb9355b7d293]\n",
      "└ @ Base loading.jl:1423\n"
     ]
    },
    {
     "data": {
      "text/plain": [
       "ProtoSyn.SISD_0"
      ]
     },
     "execution_count": 1,
     "metadata": {},
     "output_type": "execute_result"
    }
   ],
   "source": [
    "using ProtoSyn\n",
    "using Plots\n",
    "ProtoSyn.acceleration.active = ProtoSyn.SISD_0"
   ]
  },
  {
   "cell_type": "code",
   "execution_count": 2,
   "metadata": {},
   "outputs": [],
   "source": [
    "top = Topology(\"test\", 1)\n",
    "Segment!(top, \"s1\", 1)\n",
    "Residue!(top[1], \"r1\", 1)\n",
    "Atom!(top[1, 1], \"a1\", 1, 1, \"X\")\n",
    "Atom!(top[1, 1], \"a2\", 2, 2, \"X\")\n",
    "state = State(2)\n",
    "top.id = state.id = ProtoSyn.genid()\n",
    "pose = Pose(top, state)\n",
    "ProtoSyn.write(pose, \"distance_based_potentials.pdb\")"
   ]
  },
  {
   "cell_type": "code",
   "execution_count": 3,
   "metadata": {},
   "outputs": [
    {
     "data": {
      "text/plain": [
       "0.1"
      ]
     },
     "execution_count": 3,
     "metadata": {},
     "output_type": "execute_result"
    }
   ],
   "source": [
    "d = 0.1\n",
    "pose.state[pose.graph[1, 1, 2]].t[2] += d"
   ]
  },
  {
   "cell_type": "code",
   "execution_count": 4,
   "metadata": {},
   "outputs": [
    {
     "data": {
      "text/plain": [
       "1-element Vector{Float64}:\n",
       " 0.1"
      ]
     },
     "execution_count": 4,
     "metadata": {},
     "output_type": "execute_result"
    }
   ],
   "source": [
    "energy_function = ProtoSyn.Calculators.EnergyFunction([\n",
    "    ProtoSyn.Calculators.Restraints.get_default_all_atom_clash_restraint(α = 1.0)\n",
    "])\n",
    "energy_function.update_forces = true\n",
    "\n",
    "es = Vector{Float64}([\n",
    "    energy_function(pose)\n",
    "])\n",
    "\n",
    "ds = Vector{Float64}([pose.state[pose.graph[1, 1, 2]].t[2]])"
   ]
  },
  {
   "cell_type": "code",
   "execution_count": 5,
   "metadata": {},
   "outputs": [],
   "source": [
    "for i in 1:10\n",
    "    pose.state[pose.graph[1, 1, 2]].t = pose.state[pose.graph[1, 1, 2]].t .+ [0.0, d, 0.0]\n",
    "    push!(ds, pose.state[pose.graph[1, 1, 2]].t[2])\n",
    "    e = energy_function(pose)\n",
    "    push!(es, e)\n",
    "    ProtoSyn.append(pose, \"distance_based_potentials.pdb\")\n",
    "end"
   ]
  },
  {
   "cell_type": "code",
   "execution_count": 6,
   "metadata": {},
   "outputs": [
    {
     "data": {
      "image/svg+xml": "<?xml version=\"1.0\" encoding=\"utf-8\"?>\n<svg xmlns=\"http://www.w3.org/2000/svg\" xmlns:xlink=\"http://www.w3.org/1999/xlink\" width=\"600\" height=\"400\" viewBox=\"0 0 2400 1600\">\n<defs>\n  <clipPath id=\"clip590\">\n    <rect x=\"0\" y=\"0\" width=\"2400\" height=\"1600\"/>\n  </clipPath>\n</defs>\n<path clip-path=\"url(#clip590)\" d=\"\nM0 1600 L2400 1600 L2400 0 L0 0  Z\n  \" fill=\"#ffffff\" fill-rule=\"evenodd\" fill-opacity=\"1\"/>\n<defs>\n  <clipPath id=\"clip591\">\n    <rect x=\"480\" y=\"0\" width=\"1681\" height=\"1600\"/>\n  </clipPath>\n</defs>\n<path clip-path=\"url(#clip590)\" d=\"\nM155.765 1486.45 L2352.76 1486.45 L2352.76 47.2441 L155.765 47.2441  Z\n  \" fill=\"#ffffff\" fill-rule=\"evenodd\" fill-opacity=\"1\"/>\n<defs>\n  <clipPath id=\"clip592\">\n    <rect x=\"155\" y=\"47\" width=\"2198\" height=\"1440\"/>\n  </clipPath>\n</defs>\n<polyline clip-path=\"url(#clip592)\" style=\"stroke:#000000; stroke-linecap:round; stroke-linejoin:round; stroke-width:2; stroke-opacity:0.1; fill:none\" points=\"\n  425.207,1486.45 425.207,47.2441 \n  \"/>\n<polyline clip-path=\"url(#clip592)\" style=\"stroke:#000000; stroke-linecap:round; stroke-linejoin:round; stroke-width:2; stroke-opacity:0.1; fill:none\" points=\"\n  839.734,1486.45 839.734,47.2441 \n  \"/>\n<polyline clip-path=\"url(#clip592)\" style=\"stroke:#000000; stroke-linecap:round; stroke-linejoin:round; stroke-width:2; stroke-opacity:0.1; fill:none\" points=\"\n  1254.26,1486.45 1254.26,47.2441 \n  \"/>\n<polyline clip-path=\"url(#clip592)\" style=\"stroke:#000000; stroke-linecap:round; stroke-linejoin:round; stroke-width:2; stroke-opacity:0.1; fill:none\" points=\"\n  1668.79,1486.45 1668.79,47.2441 \n  \"/>\n<polyline clip-path=\"url(#clip592)\" style=\"stroke:#000000; stroke-linecap:round; stroke-linejoin:round; stroke-width:2; stroke-opacity:0.1; fill:none\" points=\"\n  2083.31,1486.45 2083.31,47.2441 \n  \"/>\n<polyline clip-path=\"url(#clip590)\" style=\"stroke:#000000; stroke-linecap:round; stroke-linejoin:round; stroke-width:4; stroke-opacity:1; fill:none\" points=\"\n  155.765,1486.45 2352.76,1486.45 \n  \"/>\n<polyline clip-path=\"url(#clip590)\" style=\"stroke:#000000; stroke-linecap:round; stroke-linejoin:round; stroke-width:4; stroke-opacity:1; fill:none\" points=\"\n  425.207,1486.45 425.207,1467.55 \n  \"/>\n<polyline clip-path=\"url(#clip590)\" style=\"stroke:#000000; stroke-linecap:round; stroke-linejoin:round; stroke-width:4; stroke-opacity:1; fill:none\" points=\"\n  839.734,1486.45 839.734,1467.55 \n  \"/>\n<polyline clip-path=\"url(#clip590)\" style=\"stroke:#000000; stroke-linecap:round; stroke-linejoin:round; stroke-width:4; stroke-opacity:1; fill:none\" points=\"\n  1254.26,1486.45 1254.26,1467.55 \n  \"/>\n<polyline clip-path=\"url(#clip590)\" style=\"stroke:#000000; stroke-linecap:round; stroke-linejoin:round; stroke-width:4; stroke-opacity:1; fill:none\" points=\"\n  1668.79,1486.45 1668.79,1467.55 \n  \"/>\n<polyline clip-path=\"url(#clip590)\" style=\"stroke:#000000; stroke-linecap:round; stroke-linejoin:round; stroke-width:4; stroke-opacity:1; fill:none\" points=\"\n  2083.31,1486.45 2083.31,1467.55 \n  \"/>\n<path clip-path=\"url(#clip590)\" d=\"M403.39 1517.37 Q399.779 1517.37 397.95 1520.93 Q396.145 1524.47 396.145 1531.6 Q396.145 1538.71 397.95 1542.27 Q399.779 1545.82 403.39 1545.82 Q407.024 1545.82 408.83 1542.27 Q410.659 1538.71 410.659 1531.6 Q410.659 1524.47 408.83 1520.93 Q407.024 1517.37 403.39 1517.37 M403.39 1513.66 Q409.2 1513.66 412.256 1518.27 Q415.335 1522.85 415.335 1531.6 Q415.335 1540.33 412.256 1544.94 Q409.2 1549.52 403.39 1549.52 Q397.58 1549.52 394.501 1544.94 Q391.446 1540.33 391.446 1531.6 Q391.446 1522.85 394.501 1518.27 Q397.58 1513.66 403.39 1513.66 Z\" fill=\"#000000\" fill-rule=\"evenodd\" fill-opacity=\"1\" /><path clip-path=\"url(#clip590)\" d=\"M423.552 1542.97 L428.436 1542.97 L428.436 1548.85 L423.552 1548.85 L423.552 1542.97 Z\" fill=\"#000000\" fill-rule=\"evenodd\" fill-opacity=\"1\" /><path clip-path=\"url(#clip590)\" d=\"M442.649 1544.91 L458.969 1544.91 L458.969 1548.85 L437.024 1548.85 L437.024 1544.91 Q439.686 1542.16 444.27 1537.53 Q448.876 1532.88 450.057 1531.53 Q452.302 1529.01 453.182 1527.27 Q454.084 1525.51 454.084 1523.82 Q454.084 1521.07 452.14 1519.33 Q450.219 1517.6 447.117 1517.6 Q444.918 1517.6 442.464 1518.36 Q440.034 1519.13 437.256 1520.68 L437.256 1515.95 Q440.08 1514.82 442.533 1514.24 Q444.987 1513.66 447.024 1513.66 Q452.395 1513.66 455.589 1516.35 Q458.783 1519.03 458.783 1523.52 Q458.783 1525.65 457.973 1527.57 Q457.186 1529.47 455.08 1532.07 Q454.501 1532.74 451.399 1535.95 Q448.297 1539.15 442.649 1544.91 Z\" fill=\"#000000\" fill-rule=\"evenodd\" fill-opacity=\"1\" /><path clip-path=\"url(#clip590)\" d=\"M816.875 1517.37 Q813.264 1517.37 811.435 1520.93 Q809.63 1524.47 809.63 1531.6 Q809.63 1538.71 811.435 1542.27 Q813.264 1545.82 816.875 1545.82 Q820.509 1545.82 822.315 1542.27 Q824.144 1538.71 824.144 1531.6 Q824.144 1524.47 822.315 1520.93 Q820.509 1517.37 816.875 1517.37 M816.875 1513.66 Q822.685 1513.66 825.741 1518.27 Q828.82 1522.85 828.82 1531.6 Q828.82 1540.33 825.741 1544.94 Q822.685 1549.52 816.875 1549.52 Q811.065 1549.52 807.986 1544.94 Q804.931 1540.33 804.931 1531.6 Q804.931 1522.85 807.986 1518.27 Q811.065 1513.66 816.875 1513.66 Z\" fill=\"#000000\" fill-rule=\"evenodd\" fill-opacity=\"1\" /><path clip-path=\"url(#clip590)\" d=\"M837.037 1542.97 L841.921 1542.97 L841.921 1548.85 L837.037 1548.85 L837.037 1542.97 Z\" fill=\"#000000\" fill-rule=\"evenodd\" fill-opacity=\"1\" /><path clip-path=\"url(#clip590)\" d=\"M864.954 1518.36 L853.148 1536.81 L864.954 1536.81 L864.954 1518.36 M863.727 1514.29 L869.606 1514.29 L869.606 1536.81 L874.537 1536.81 L874.537 1540.7 L869.606 1540.7 L869.606 1548.85 L864.954 1548.85 L864.954 1540.7 L849.352 1540.7 L849.352 1536.19 L863.727 1514.29 Z\" fill=\"#000000\" fill-rule=\"evenodd\" fill-opacity=\"1\" /><path clip-path=\"url(#clip590)\" d=\"M1231.56 1517.37 Q1227.95 1517.37 1226.12 1520.93 Q1224.32 1524.47 1224.32 1531.6 Q1224.32 1538.71 1226.12 1542.27 Q1227.95 1545.82 1231.56 1545.82 Q1235.2 1545.82 1237 1542.27 Q1238.83 1538.71 1238.83 1531.6 Q1238.83 1524.47 1237 1520.93 Q1235.2 1517.37 1231.56 1517.37 M1231.56 1513.66 Q1237.37 1513.66 1240.43 1518.27 Q1243.51 1522.85 1243.51 1531.6 Q1243.51 1540.33 1240.43 1544.94 Q1237.37 1549.52 1231.56 1549.52 Q1225.75 1549.52 1222.67 1544.94 Q1219.62 1540.33 1219.62 1531.6 Q1219.62 1522.85 1222.67 1518.27 Q1225.75 1513.66 1231.56 1513.66 Z\" fill=\"#000000\" fill-rule=\"evenodd\" fill-opacity=\"1\" /><path clip-path=\"url(#clip590)\" d=\"M1251.73 1542.97 L1256.61 1542.97 L1256.61 1548.85 L1251.73 1548.85 L1251.73 1542.97 Z\" fill=\"#000000\" fill-rule=\"evenodd\" fill-opacity=\"1\" /><path clip-path=\"url(#clip590)\" d=\"M1277.37 1529.7 Q1274.23 1529.7 1272.37 1531.86 Q1270.55 1534.01 1270.55 1537.76 Q1270.55 1541.49 1272.37 1543.66 Q1274.23 1545.82 1277.37 1545.82 Q1280.52 1545.82 1282.35 1543.66 Q1284.2 1541.49 1284.2 1537.76 Q1284.2 1534.01 1282.35 1531.86 Q1280.52 1529.7 1277.37 1529.7 M1286.66 1515.05 L1286.66 1519.31 Q1284.9 1518.48 1283.09 1518.04 Q1281.31 1517.6 1279.55 1517.6 Q1274.92 1517.6 1272.47 1520.72 Q1270.04 1523.85 1269.69 1530.17 Q1271.05 1528.15 1273.11 1527.09 Q1275.17 1526 1277.65 1526 Q1282.86 1526 1285.87 1529.17 Q1288.9 1532.32 1288.9 1537.76 Q1288.9 1543.08 1285.75 1546.3 Q1282.61 1549.52 1277.37 1549.52 Q1271.38 1549.52 1268.21 1544.94 Q1265.04 1540.33 1265.04 1531.6 Q1265.04 1523.41 1268.92 1518.55 Q1272.81 1513.66 1279.36 1513.66 Q1281.12 1513.66 1282.91 1514.01 Q1284.71 1514.36 1286.66 1515.05 Z\" fill=\"#000000\" fill-rule=\"evenodd\" fill-opacity=\"1\" /><path clip-path=\"url(#clip590)\" d=\"M1646.22 1517.37 Q1642.61 1517.37 1640.78 1520.93 Q1638.97 1524.47 1638.97 1531.6 Q1638.97 1538.71 1640.78 1542.27 Q1642.61 1545.82 1646.22 1545.82 Q1649.85 1545.82 1651.66 1542.27 Q1653.49 1538.71 1653.49 1531.6 Q1653.49 1524.47 1651.66 1520.93 Q1649.85 1517.37 1646.22 1517.37 M1646.22 1513.66 Q1652.03 1513.66 1655.08 1518.27 Q1658.16 1522.85 1658.16 1531.6 Q1658.16 1540.33 1655.08 1544.94 Q1652.03 1549.52 1646.22 1549.52 Q1640.41 1549.52 1637.33 1544.94 Q1634.27 1540.33 1634.27 1531.6 Q1634.27 1522.85 1637.33 1518.27 Q1640.41 1513.66 1646.22 1513.66 Z\" fill=\"#000000\" fill-rule=\"evenodd\" fill-opacity=\"1\" /><path clip-path=\"url(#clip590)\" d=\"M1666.38 1542.97 L1671.26 1542.97 L1671.26 1548.85 L1666.38 1548.85 L1666.38 1542.97 Z\" fill=\"#000000\" fill-rule=\"evenodd\" fill-opacity=\"1\" /><path clip-path=\"url(#clip590)\" d=\"M1691.45 1532.44 Q1688.12 1532.44 1686.19 1534.22 Q1684.3 1536 1684.3 1539.13 Q1684.3 1542.25 1686.19 1544.03 Q1688.12 1545.82 1691.45 1545.82 Q1694.78 1545.82 1696.7 1544.03 Q1698.62 1542.23 1698.62 1539.13 Q1698.62 1536 1696.7 1534.22 Q1694.81 1532.44 1691.45 1532.44 M1686.77 1530.45 Q1683.76 1529.7 1682.07 1527.64 Q1680.41 1525.58 1680.41 1522.62 Q1680.41 1518.48 1683.35 1516.07 Q1686.31 1513.66 1691.45 1513.66 Q1696.61 1513.66 1699.55 1516.07 Q1702.49 1518.48 1702.49 1522.62 Q1702.49 1525.58 1700.8 1527.64 Q1699.13 1529.7 1696.15 1530.45 Q1699.53 1531.23 1701.4 1533.52 Q1703.3 1535.82 1703.3 1539.13 Q1703.3 1544.15 1700.22 1546.83 Q1697.17 1549.52 1691.45 1549.52 Q1685.73 1549.52 1682.65 1546.83 Q1679.6 1544.15 1679.6 1539.13 Q1679.6 1535.82 1681.5 1533.52 Q1683.39 1531.23 1686.77 1530.45 M1685.06 1523.06 Q1685.06 1525.75 1686.73 1527.25 Q1688.42 1528.76 1691.45 1528.76 Q1694.46 1528.76 1696.15 1527.25 Q1697.86 1525.75 1697.86 1523.06 Q1697.86 1520.38 1696.15 1518.87 Q1694.46 1517.37 1691.45 1517.37 Q1688.42 1517.37 1686.73 1518.87 Q1685.06 1520.38 1685.06 1523.06 Z\" fill=\"#000000\" fill-rule=\"evenodd\" fill-opacity=\"1\" /><path clip-path=\"url(#clip590)\" d=\"M2050.47 1544.91 L2058.11 1544.91 L2058.11 1518.55 L2049.8 1520.21 L2049.8 1515.95 L2058.06 1514.29 L2062.74 1514.29 L2062.74 1544.91 L2070.37 1544.91 L2070.37 1548.85 L2050.47 1548.85 L2050.47 1544.91 Z\" fill=\"#000000\" fill-rule=\"evenodd\" fill-opacity=\"1\" /><path clip-path=\"url(#clip590)\" d=\"M2079.82 1542.97 L2084.7 1542.97 L2084.7 1548.85 L2079.82 1548.85 L2079.82 1542.97 Z\" fill=\"#000000\" fill-rule=\"evenodd\" fill-opacity=\"1\" /><path clip-path=\"url(#clip590)\" d=\"M2104.89 1517.37 Q2101.28 1517.37 2099.45 1520.93 Q2097.64 1524.47 2097.64 1531.6 Q2097.64 1538.71 2099.45 1542.27 Q2101.28 1545.82 2104.89 1545.82 Q2108.52 1545.82 2110.33 1542.27 Q2112.16 1538.71 2112.16 1531.6 Q2112.16 1524.47 2110.33 1520.93 Q2108.52 1517.37 2104.89 1517.37 M2104.89 1513.66 Q2110.7 1513.66 2113.75 1518.27 Q2116.83 1522.85 2116.83 1531.6 Q2116.83 1540.33 2113.75 1544.94 Q2110.7 1549.52 2104.89 1549.52 Q2099.08 1549.52 2096 1544.94 Q2092.94 1540.33 2092.94 1531.6 Q2092.94 1522.85 2096 1518.27 Q2099.08 1513.66 2104.89 1513.66 Z\" fill=\"#000000\" fill-rule=\"evenodd\" fill-opacity=\"1\" /><polyline clip-path=\"url(#clip592)\" style=\"stroke:#000000; stroke-linecap:round; stroke-linejoin:round; stroke-width:2; stroke-opacity:0.1; fill:none\" points=\"\n  155.765,1327.92 2352.76,1327.92 \n  \"/>\n<polyline clip-path=\"url(#clip592)\" style=\"stroke:#000000; stroke-linecap:round; stroke-linejoin:round; stroke-width:2; stroke-opacity:0.1; fill:none\" points=\"\n  155.765,1017.93 2352.76,1017.93 \n  \"/>\n<polyline clip-path=\"url(#clip592)\" style=\"stroke:#000000; stroke-linecap:round; stroke-linejoin:round; stroke-width:2; stroke-opacity:0.1; fill:none\" points=\"\n  155.765,707.949 2352.76,707.949 \n  \"/>\n<polyline clip-path=\"url(#clip592)\" style=\"stroke:#000000; stroke-linecap:round; stroke-linejoin:round; stroke-width:2; stroke-opacity:0.1; fill:none\" points=\"\n  155.765,397.962 2352.76,397.962 \n  \"/>\n<polyline clip-path=\"url(#clip592)\" style=\"stroke:#000000; stroke-linecap:round; stroke-linejoin:round; stroke-width:2; stroke-opacity:0.1; fill:none\" points=\"\n  155.765,87.9763 2352.76,87.9763 \n  \"/>\n<polyline clip-path=\"url(#clip590)\" style=\"stroke:#000000; stroke-linecap:round; stroke-linejoin:round; stroke-width:4; stroke-opacity:1; fill:none\" points=\"\n  155.765,1486.45 155.765,47.2441 \n  \"/>\n<polyline clip-path=\"url(#clip590)\" style=\"stroke:#000000; stroke-linecap:round; stroke-linejoin:round; stroke-width:4; stroke-opacity:1; fill:none\" points=\"\n  155.765,1327.92 174.663,1327.92 \n  \"/>\n<polyline clip-path=\"url(#clip590)\" style=\"stroke:#000000; stroke-linecap:round; stroke-linejoin:round; stroke-width:4; stroke-opacity:1; fill:none\" points=\"\n  155.765,1017.93 174.663,1017.93 \n  \"/>\n<polyline clip-path=\"url(#clip590)\" style=\"stroke:#000000; stroke-linecap:round; stroke-linejoin:round; stroke-width:4; stroke-opacity:1; fill:none\" points=\"\n  155.765,707.949 174.663,707.949 \n  \"/>\n<polyline clip-path=\"url(#clip590)\" style=\"stroke:#000000; stroke-linecap:round; stroke-linejoin:round; stroke-width:4; stroke-opacity:1; fill:none\" points=\"\n  155.765,397.962 174.663,397.962 \n  \"/>\n<polyline clip-path=\"url(#clip590)\" style=\"stroke:#000000; stroke-linecap:round; stroke-linejoin:round; stroke-width:4; stroke-opacity:1; fill:none\" points=\"\n  155.765,87.9763 174.663,87.9763 \n  \"/>\n<path clip-path=\"url(#clip590)\" d=\"M53.3995 1341.27 L61.0384 1341.27 L61.0384 1314.9 L52.7282 1316.57 L52.7282 1312.31 L60.9921 1310.64 L65.668 1310.64 L65.668 1341.27 L73.3068 1341.27 L73.3068 1345.2 L53.3995 1345.2 L53.3995 1341.27 Z\" fill=\"#000000\" fill-rule=\"evenodd\" fill-opacity=\"1\" /><path clip-path=\"url(#clip590)\" d=\"M82.7512 1339.32 L87.6354 1339.32 L87.6354 1345.2 L82.7512 1345.2 L82.7512 1339.32 Z\" fill=\"#000000\" fill-rule=\"evenodd\" fill-opacity=\"1\" /><path clip-path=\"url(#clip590)\" d=\"M107.821 1313.72 Q104.209 1313.72 102.381 1317.28 Q100.575 1320.83 100.575 1327.96 Q100.575 1335.06 102.381 1338.63 Q104.209 1342.17 107.821 1342.17 Q111.455 1342.17 113.26 1338.63 Q115.089 1335.06 115.089 1327.96 Q115.089 1320.83 113.26 1317.28 Q111.455 1313.72 107.821 1313.72 M107.821 1310.02 Q113.631 1310.02 116.686 1314.62 Q119.765 1319.21 119.765 1327.96 Q119.765 1336.68 116.686 1341.29 Q113.631 1345.87 107.821 1345.87 Q102.01 1345.87 98.9317 1341.29 Q95.8761 1336.68 95.8761 1327.96 Q95.8761 1319.21 98.9317 1314.62 Q102.01 1310.02 107.821 1310.02 Z\" fill=\"#000000\" fill-rule=\"evenodd\" fill-opacity=\"1\" /><path clip-path=\"url(#clip590)\" d=\"M54.3949 1031.28 L62.0337 1031.28 L62.0337 1004.91 L53.7236 1006.58 L53.7236 1002.32 L61.9874 1000.65 L66.6633 1000.65 L66.6633 1031.28 L74.3022 1031.28 L74.3022 1035.21 L54.3949 1035.21 L54.3949 1031.28 Z\" fill=\"#000000\" fill-rule=\"evenodd\" fill-opacity=\"1\" /><path clip-path=\"url(#clip590)\" d=\"M83.7466 1029.34 L88.6308 1029.34 L88.6308 1035.21 L83.7466 1035.21 L83.7466 1029.34 Z\" fill=\"#000000\" fill-rule=\"evenodd\" fill-opacity=\"1\" /><path clip-path=\"url(#clip590)\" d=\"M98.8622 1000.65 L117.219 1000.65 L117.219 1004.59 L103.145 1004.59 L103.145 1013.06 Q104.163 1012.71 105.182 1012.55 Q106.2 1012.37 107.219 1012.37 Q113.006 1012.37 116.385 1015.54 Q119.765 1018.71 119.765 1024.13 Q119.765 1029.71 116.293 1032.81 Q112.82 1035.89 106.501 1035.89 Q104.325 1035.89 102.057 1035.52 Q99.8113 1035.15 97.4039 1034.4 L97.4039 1029.71 Q99.4872 1030.84 101.709 1031.4 Q103.932 1031.95 106.408 1031.95 Q110.413 1031.95 112.751 1029.84 Q115.089 1027.74 115.089 1024.13 Q115.089 1020.52 112.751 1018.41 Q110.413 1016.3 106.408 1016.3 Q104.534 1016.3 102.659 1016.72 Q100.807 1017.14 98.8622 1018.02 L98.8622 1000.65 Z\" fill=\"#000000\" fill-rule=\"evenodd\" fill-opacity=\"1\" /><path clip-path=\"url(#clip590)\" d=\"M56.6171 721.293 L72.9365 721.293 L72.9365 725.229 L50.9921 725.229 L50.9921 721.293 Q53.6541 718.539 58.2375 713.909 Q62.8439 709.256 64.0245 707.914 Q66.2698 705.391 67.1494 703.655 Q68.0522 701.895 68.0522 700.206 Q68.0522 697.451 66.1078 695.715 Q64.1865 693.979 61.0847 693.979 Q58.8856 693.979 56.4319 694.743 Q54.0014 695.507 51.2236 697.057 L51.2236 692.335 Q54.0477 691.201 56.5014 690.622 Q58.955 690.044 60.9921 690.044 Q66.3624 690.044 69.5568 692.729 Q72.7513 695.414 72.7513 699.905 Q72.7513 702.034 71.9411 703.956 Q71.1541 705.854 69.0476 708.446 Q68.4689 709.118 65.367 712.335 Q62.2652 715.53 56.6171 721.293 Z\" fill=\"#000000\" fill-rule=\"evenodd\" fill-opacity=\"1\" /><path clip-path=\"url(#clip590)\" d=\"M82.7512 719.349 L87.6354 719.349 L87.6354 725.229 L82.7512 725.229 L82.7512 719.349 Z\" fill=\"#000000\" fill-rule=\"evenodd\" fill-opacity=\"1\" /><path clip-path=\"url(#clip590)\" d=\"M107.821 693.747 Q104.209 693.747 102.381 697.312 Q100.575 700.854 100.575 707.983 Q100.575 715.09 102.381 718.655 Q104.209 722.196 107.821 722.196 Q111.455 722.196 113.26 718.655 Q115.089 715.09 115.089 707.983 Q115.089 700.854 113.26 697.312 Q111.455 693.747 107.821 693.747 M107.821 690.044 Q113.631 690.044 116.686 694.65 Q119.765 699.233 119.765 707.983 Q119.765 716.71 116.686 721.317 Q113.631 725.9 107.821 725.9 Q102.01 725.9 98.9317 721.317 Q95.8761 716.71 95.8761 707.983 Q95.8761 699.233 98.9317 694.65 Q102.01 690.044 107.821 690.044 Z\" fill=\"#000000\" fill-rule=\"evenodd\" fill-opacity=\"1\" /><path clip-path=\"url(#clip590)\" d=\"M57.6125 411.307 L73.9318 411.307 L73.9318 415.242 L51.9875 415.242 L51.9875 411.307 Q54.6495 408.553 59.2328 403.923 Q63.8393 399.27 65.0198 397.928 Q67.2652 395.405 68.1448 393.668 Q69.0476 391.909 69.0476 390.219 Q69.0476 387.465 67.1032 385.729 Q65.1819 383.993 62.08 383.993 Q59.881 383.993 57.4273 384.756 Q54.9967 385.52 52.219 387.071 L52.219 382.349 Q55.043 381.215 57.4967 380.636 Q59.9504 380.057 61.9874 380.057 Q67.3578 380.057 70.5522 382.743 Q73.7466 385.428 73.7466 389.919 Q73.7466 392.048 72.9365 393.969 Q72.1494 395.868 70.0429 398.46 Q69.4642 399.131 66.3624 402.349 Q63.2606 405.543 57.6125 411.307 Z\" fill=\"#000000\" fill-rule=\"evenodd\" fill-opacity=\"1\" /><path clip-path=\"url(#clip590)\" d=\"M83.7466 409.363 L88.6308 409.363 L88.6308 415.242 L83.7466 415.242 L83.7466 409.363 Z\" fill=\"#000000\" fill-rule=\"evenodd\" fill-opacity=\"1\" /><path clip-path=\"url(#clip590)\" d=\"M98.8622 380.682 L117.219 380.682 L117.219 384.618 L103.145 384.618 L103.145 393.09 Q104.163 392.743 105.182 392.581 Q106.2 392.395 107.219 392.395 Q113.006 392.395 116.385 395.567 Q119.765 398.738 119.765 404.155 Q119.765 409.733 116.293 412.835 Q112.82 415.914 106.501 415.914 Q104.325 415.914 102.057 415.543 Q99.8113 415.173 97.4039 414.432 L97.4039 409.733 Q99.4872 410.867 101.709 411.423 Q103.932 411.979 106.408 411.979 Q110.413 411.979 112.751 409.872 Q115.089 407.766 115.089 404.155 Q115.089 400.543 112.751 398.437 Q110.413 396.331 106.408 396.331 Q104.534 396.331 102.659 396.747 Q100.807 397.164 98.8622 398.043 L98.8622 380.682 Z\" fill=\"#000000\" fill-rule=\"evenodd\" fill-opacity=\"1\" /><path clip-path=\"url(#clip590)\" d=\"M66.7559 86.6221 Q70.1124 87.3397 71.9874 89.6082 Q73.8855 91.8767 73.8855 95.21 Q73.8855 100.326 70.367 103.127 Q66.8485 105.928 60.3671 105.928 Q58.1912 105.928 55.8764 105.488 Q53.5847 105.071 51.131 104.215 L51.131 99.7008 Q53.0754 100.835 55.3903 101.414 Q57.7051 101.992 60.2282 101.992 Q64.6263 101.992 66.918 100.256 Q69.2328 98.5202 69.2328 95.21 Q69.2328 92.1545 67.08 90.4415 Q64.9504 88.7054 61.131 88.7054 L57.1032 88.7054 L57.1032 84.8629 L61.3161 84.8629 Q64.7652 84.8629 66.5939 83.4971 Q68.4226 82.1083 68.4226 79.5157 Q68.4226 76.8537 66.5245 75.4416 Q64.6495 74.0064 61.131 74.0064 Q59.2097 74.0064 57.0106 74.4231 Q54.8115 74.8398 52.1727 75.7194 L52.1727 71.5528 Q54.8347 70.812 57.1495 70.4416 Q59.4875 70.0713 61.5476 70.0713 Q66.8717 70.0713 69.9735 72.5018 Q73.0753 74.9092 73.0753 79.0296 Q73.0753 81.8999 71.4318 83.8907 Q69.7883 85.8582 66.7559 86.6221 Z\" fill=\"#000000\" fill-rule=\"evenodd\" fill-opacity=\"1\" /><path clip-path=\"url(#clip590)\" d=\"M82.7512 99.3767 L87.6354 99.3767 L87.6354 105.256 L82.7512 105.256 L82.7512 99.3767 Z\" fill=\"#000000\" fill-rule=\"evenodd\" fill-opacity=\"1\" /><path clip-path=\"url(#clip590)\" d=\"M107.821 73.775 Q104.209 73.775 102.381 77.3398 Q100.575 80.8814 100.575 88.011 Q100.575 95.1174 102.381 98.6822 Q104.209 102.224 107.821 102.224 Q111.455 102.224 113.26 98.6822 Q115.089 95.1174 115.089 88.011 Q115.089 80.8814 113.26 77.3398 Q111.455 73.775 107.821 73.775 M107.821 70.0713 Q113.631 70.0713 116.686 74.6777 Q119.765 79.261 119.765 88.011 Q119.765 96.7378 116.686 101.344 Q113.631 105.928 107.821 105.928 Q102.01 105.928 98.9317 101.344 Q95.8761 96.7378 95.8761 88.011 Q95.8761 79.261 98.9317 74.6777 Q102.01 70.0713 107.821 70.0713 Z\" fill=\"#000000\" fill-rule=\"evenodd\" fill-opacity=\"1\" /><circle clip-path=\"url(#clip592)\" cx=\"217.944\" cy=\"87.9763\" r=\"14.4\" fill=\"#009af9\" fill-rule=\"evenodd\" fill-opacity=\"1\" stroke=\"#000000\" stroke-opacity=\"1\" stroke-width=\"3.2\"/>\n<circle clip-path=\"url(#clip592)\" cx=\"425.207\" cy=\"335.965\" r=\"14.4\" fill=\"#009af9\" fill-rule=\"evenodd\" fill-opacity=\"1\" stroke=\"#000000\" stroke-opacity=\"1\" stroke-width=\"3.2\"/>\n<circle clip-path=\"url(#clip592)\" cx=\"632.47\" cy=\"459.96\" r=\"14.4\" fill=\"#009af9\" fill-rule=\"evenodd\" fill-opacity=\"1\" stroke=\"#000000\" stroke-opacity=\"1\" stroke-width=\"3.2\"/>\n<circle clip-path=\"url(#clip592)\" cx=\"839.734\" cy=\"583.954\" r=\"14.4\" fill=\"#009af9\" fill-rule=\"evenodd\" fill-opacity=\"1\" stroke=\"#000000\" stroke-opacity=\"1\" stroke-width=\"3.2\"/>\n<circle clip-path=\"url(#clip592)\" cx=\"1047\" cy=\"707.949\" r=\"14.4\" fill=\"#009af9\" fill-rule=\"evenodd\" fill-opacity=\"1\" stroke=\"#000000\" stroke-opacity=\"1\" stroke-width=\"3.2\"/>\n<circle clip-path=\"url(#clip592)\" cx=\"1254.26\" cy=\"831.943\" r=\"14.4\" fill=\"#009af9\" fill-rule=\"evenodd\" fill-opacity=\"1\" stroke=\"#000000\" stroke-opacity=\"1\" stroke-width=\"3.2\"/>\n<circle clip-path=\"url(#clip592)\" cx=\"1461.52\" cy=\"955.938\" r=\"14.4\" fill=\"#009af9\" fill-rule=\"evenodd\" fill-opacity=\"1\" stroke=\"#000000\" stroke-opacity=\"1\" stroke-width=\"3.2\"/>\n<circle clip-path=\"url(#clip592)\" cx=\"1668.79\" cy=\"1079.93\" r=\"14.4\" fill=\"#009af9\" fill-rule=\"evenodd\" fill-opacity=\"1\" stroke=\"#000000\" stroke-opacity=\"1\" stroke-width=\"3.2\"/>\n<circle clip-path=\"url(#clip592)\" cx=\"1876.05\" cy=\"1203.93\" r=\"14.4\" fill=\"#009af9\" fill-rule=\"evenodd\" fill-opacity=\"1\" stroke=\"#000000\" stroke-opacity=\"1\" stroke-width=\"3.2\"/>\n<circle clip-path=\"url(#clip592)\" cx=\"2083.31\" cy=\"1327.92\" r=\"14.4\" fill=\"#009af9\" fill-rule=\"evenodd\" fill-opacity=\"1\" stroke=\"#000000\" stroke-opacity=\"1\" stroke-width=\"3.2\"/>\n<circle clip-path=\"url(#clip592)\" cx=\"2290.58\" cy=\"1445.72\" r=\"14.4\" fill=\"#009af9\" fill-rule=\"evenodd\" fill-opacity=\"1\" stroke=\"#000000\" stroke-opacity=\"1\" stroke-width=\"3.2\"/>\n<path clip-path=\"url(#clip590)\" d=\"\nM1982.98 198.898 L2279.52 198.898 L2279.52 95.2176 L1982.98 95.2176  Z\n  \" fill=\"#ffffff\" fill-rule=\"evenodd\" fill-opacity=\"1\"/>\n<polyline clip-path=\"url(#clip590)\" style=\"stroke:#000000; stroke-linecap:round; stroke-linejoin:round; stroke-width:4; stroke-opacity:1; fill:none\" points=\"\n  1982.98,198.898 2279.52,198.898 2279.52,95.2176 1982.98,95.2176 1982.98,198.898 \n  \"/>\n<circle clip-path=\"url(#clip590)\" cx=\"2080.63\" cy=\"147.058\" r=\"23.04\" fill=\"#009af9\" fill-rule=\"evenodd\" fill-opacity=\"1\" stroke=\"#000000\" stroke-opacity=\"1\" stroke-width=\"5.12\"/>\n<path clip-path=\"url(#clip590)\" d=\"M2192.11 166.745 Q2190.31 171.375 2188.59 172.787 Q2186.88 174.199 2184.01 174.199 L2180.61 174.199 L2180.61 170.634 L2183.11 170.634 Q2184.87 170.634 2185.84 169.8 Q2186.81 168.967 2187.99 165.865 L2188.76 163.921 L2178.27 138.412 L2182.78 138.412 L2190.89 158.689 L2198.99 138.412 L2203.5 138.412 L2192.11 166.745 Z\" fill=\"#000000\" fill-rule=\"evenodd\" fill-opacity=\"1\" /><path clip-path=\"url(#clip590)\" d=\"M2210.79 160.402 L2218.43 160.402 L2218.43 134.037 L2210.12 135.703 L2210.12 131.444 L2218.39 129.778 L2223.06 129.778 L2223.06 160.402 L2230.7 160.402 L2230.7 164.338 L2210.79 164.338 L2210.79 160.402 Z\" fill=\"#000000\" fill-rule=\"evenodd\" fill-opacity=\"1\" /></svg>\n"
     },
     "execution_count": 6,
     "metadata": {},
     "output_type": "execute_result"
    }
   ],
   "source": [
    "scatter(ds, es)"
   ]
  },
  {
   "cell_type": "code",
   "execution_count": 7,
   "metadata": {},
   "outputs": [
    {
     "data": {
      "text/plain": [
       "3×2 Matrix{Float64}:\n",
       "  0.0  0.0\n",
       " -1.8  1.8\n",
       "  0.0  0.0"
      ]
     },
     "metadata": {},
     "output_type": "display_data"
    },
    {
     "ename": "",
     "evalue": "",
     "output_type": "error",
     "traceback": [
      "\u001b[1;31mThe Kernel crashed while executing code in the the current cell or a previous cell. Please review the code in the cell(s) to identify a possible cause of the failure. Click <a href='https://aka.ms/vscodeJupyterKernelCrash'>here</a> for more info. View Jupyter <a href='command:jupyter.viewOutput'>log</a> for further details."
     ]
    }
   ],
   "source": [
    "display(pose.state.f)\n",
    "ProtoSyn.write_forces(pose, \"forces.txt\")"
   ]
  },
  {
   "cell_type": "code",
   "execution_count": null,
   "metadata": {},
   "outputs": [],
   "source": []
  }
 ],
 "metadata": {
  "kernelspec": {
   "display_name": "Julia 1.7.2",
   "language": "julia",
   "name": "julia-1.7"
  },
  "language_info": {
   "file_extension": ".jl",
   "mimetype": "application/julia",
   "name": "julia",
   "version": "1.7.2"
  },
  "orig_nbformat": 4
 },
 "nbformat": 4,
 "nbformat_minor": 2
}
